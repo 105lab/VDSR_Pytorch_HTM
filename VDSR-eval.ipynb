{
 "cells": [
  {
   "cell_type": "markdown",
   "metadata": {
    "colab_type": "text",
    "id": "r9-WWQWJrY9z"
   },
   "source": [
    "# Pytorch-VDSR"
   ]
  },
  {
   "cell_type": "code",
   "execution_count": null,
   "metadata": {},
   "outputs": [],
   "source": [
    "# Load the package you are going to use\n",
    "import torch\n",
    "from torch.autograd import Variable\n",
    "from PIL import Image\n",
    "import numpy as np\n",
    "import time, math\n",
    "import matplotlib.pyplot as plt\n",
    "%matplotlib inline"
   ]
  },
  {
   "cell_type": "code",
   "execution_count": null,
   "metadata": {},
   "outputs": [],
   "source": [
    "# Load the pretrained model\n",
    "model = torch.load(\"checkpoint/VDSR_SGD_epoch_80.pth\")[\"model\"]"
   ]
  },
  {
   "cell_type": "code",
   "execution_count": null,
   "metadata": {
    "colab": {},
    "colab_type": "code",
    "id": "4mlqcZumrY-J"
   },
   "outputs": [],
   "source": [
    "# Load the groundtruth image and the low-resolution image (downscaled with a factor of 4)\n",
    "im_gt = Image.open(\"Set5/butterfly_GT.bmp\").convert(\"RGB\")\n",
    "im_b = Image.open(\"Set5/butterfly_GT_scale_2.bmp\").convert(\"RGB\")"
   ]
  },
  {
   "cell_type": "code",
   "execution_count": null,
   "metadata": {
    "colab": {},
    "colab_type": "code",
    "id": "IaW8TtekrY-N"
   },
   "outputs": [],
   "source": [
    "# Convert the images into YCbCr mode and extraction the Y channel (for PSNR calculation)\n",
    "im_gt_ycbcr = np.array(im_gt.convert(\"YCbCr\"))\n",
    "im_b_ycbcr = np.array(im_b.convert(\"YCbCr\"))\n",
    "im_gt_y = im_gt_ycbcr[:,:,0].astype(float)\n",
    "im_b_y = im_b_ycbcr[:,:,0].astype(float)"
   ]
  },
  {
   "cell_type": "code",
   "execution_count": null,
   "metadata": {
    "colab": {},
    "colab_type": "code",
    "id": "ma0b6hTArY-T"
   },
   "outputs": [],
   "source": [
    "# Here is the function for PSNR calculation\n",
    "def PSNR(pred, gt, shave_border=0):\n",
    "    height, width = pred.shape[:2]\n",
    "    pred = pred[shave_border:height - shave_border, shave_border:width - shave_border]\n",
    "    gt = gt[shave_border:height - shave_border, shave_border:width - shave_border]\n",
    "    imdff = pred - gt\n",
    "    rmse = math.sqrt(np.mean(imdff ** 2))\n",
    "    if rmse == 0:\n",
    "        return 100\n",
    "    return 20 * math.log10(255.0 / rmse)"
   ]
  },
  {
   "cell_type": "code",
   "execution_count": null,
   "metadata": {
    "colab": {
     "base_uri": "https://localhost:8080/",
     "height": 35
    },
    "colab_type": "code",
    "executionInfo": {
     "elapsed": 1145,
     "status": "ok",
     "timestamp": 1565435708758,
     "user": {
      "displayName": "‍김태호[학생](공과대학 산업경영공학과)",
      "photoUrl": "",
      "userId": "00768331815007791841"
     },
     "user_tz": -540
    },
    "id": "-HSUNcACrY-W",
    "outputId": "d27ae525-b184-4ef9-a198-17935548aa9f"
   },
   "outputs": [],
   "source": [
    "# Calculate the PNSR for bicubic interpolation\n",
    "# For best PSNR score, you will have to use Matlab for color space transformation, \n",
    "# since it is different from Python's implementation\n",
    "psnr_bicubic = PSNR(im_gt_y, im_b_y)\n",
    "print('psnr for bicubic is {}dB'.format(psnr_bicubic))"
   ]
  },
  {
   "cell_type": "code",
   "execution_count": null,
   "metadata": {
    "colab": {},
    "colab_type": "code",
    "id": "eAva4Zl8rY-b"
   },
   "outputs": [],
   "source": [
    "# Prepare for the input, a pytorch tensor\n",
    "im_input = im_b_y/255.\n",
    "im_input = Variable(torch.from_numpy(im_input).float()).\\\n",
    "    view(1, -1, im_input.shape[0], im_input.shape[1])"
   ]
  },
  {
   "cell_type": "code",
   "execution_count": null,
   "metadata": {
    "colab": {},
    "colab_type": "code",
    "id": "yCTDuT_JrY-f"
   },
   "outputs": [],
   "source": [
    "# Let's try the network feedforward in cpu mode\n",
    "model = model.cpu()\n",
    "out = model(im_input)"
   ]
  },
  {
   "cell_type": "code",
   "execution_count": null,
   "metadata": {
    "colab": {},
    "colab_type": "code",
    "id": "cEOLYZDVrY-2"
   },
   "outputs": [],
   "source": [
    "# Get the output image\n",
    "out = out.cpu()\n",
    "im_h_y = out.data[0].numpy().astype(np.float32)\n",
    "im_h_y = im_h_y * 255.\n",
    "im_h_y[im_h_y < 0] = 0\n",
    "im_h_y[im_h_y > 255.] = 255.\n",
    "im_h_y = im_h_y[0,:,:]"
   ]
  },
  {
   "cell_type": "code",
   "execution_count": null,
   "metadata": {
    "colab": {
     "base_uri": "https://localhost:8080/",
     "height": 35
    },
    "colab_type": "code",
    "executionInfo": {
     "elapsed": 858,
     "status": "ok",
     "timestamp": 1565435724248,
     "user": {
      "displayName": "‍김태호[학생](공과대학 산업경영공학과)",
      "photoUrl": "",
      "userId": "00768331815007791841"
     },
     "user_tz": -540
    },
    "id": "BzToGjAwrY-8",
    "outputId": "3d726cfb-ec1a-45a9-c326-6942a9bfc93e"
   },
   "outputs": [],
   "source": [
    "# Calculate the PNSR for vdsr prediction\n",
    "psnr_predicted = PSNR(im_gt_y, im_h_y)\n",
    "print('psnr for vdsr is {}dB'.format(psnr_predicted))"
   ]
  },
  {
   "cell_type": "code",
   "execution_count": null,
   "metadata": {
    "colab": {
     "base_uri": "https://localhost:8080/",
     "height": 35
    },
    "colab_type": "code",
    "executionInfo": {
     "elapsed": 978,
     "status": "ok",
     "timestamp": 1565435726338,
     "user": {
      "displayName": "‍김태호[학생](공과대학 산업경영공학과)",
      "photoUrl": "",
      "userId": "00768331815007791841"
     },
     "user_tz": -540
    },
    "id": "_eJ1yhNNrY-_",
    "outputId": "e8d4de3b-0432-484b-b698-e14947ee3da6"
   },
   "outputs": [],
   "source": [
    "# Calculate the PNSR different between bicubic interpolation and vdsr prediction\n",
    "print(\"PSNR improvement is {}dB\".format(psnr_predicted - psnr_bicubic))"
   ]
  },
  {
   "cell_type": "code",
   "execution_count": null,
   "metadata": {
    "colab": {},
    "colab_type": "code",
    "id": "Dyv9g-X3rY_D"
   },
   "outputs": [],
   "source": [
    "# Define the colorization function\n",
    "# We'll reuse the Cb and Cr channels from bicubic interpolation\n",
    "def colorize(y, ycbcr): \n",
    "    img = np.zeros((y.shape[0], y.shape[1], 3), np.uint8)\n",
    "    img[:,:,0] = y\n",
    "    img[:,:,1] = ycbcr[:,:,1]\n",
    "    img[:,:,2] = ycbcr[:,:,2]\n",
    "    img = Image.fromarray(img, \"YCbCr\").convert(\"RGB\")\n",
    "    return img"
   ]
  },
  {
   "cell_type": "code",
   "execution_count": null,
   "metadata": {
    "colab": {},
    "colab_type": "code",
    "id": "2ZTehS7SrY_I"
   },
   "outputs": [],
   "source": [
    "# Colorize the grey-level image and convert into RGB mode\n",
    "im_h = colorize(im_h_y, im_b_ycbcr)\n",
    "im_gt = Image.fromarray(im_gt_ycbcr, \"YCbCr\").convert(\"RGB\")\n",
    "im_b = Image.fromarray(im_b_ycbcr, \"YCbCr\").convert(\"RGB\")"
   ]
  },
  {
   "cell_type": "code",
   "execution_count": null,
   "metadata": {
    "colab": {
     "base_uri": "https://localhost:8080/",
     "height": 395
    },
    "colab_type": "code",
    "executionInfo": {
     "elapsed": 4188,
     "status": "ok",
     "timestamp": 1565434333424,
     "user": {
      "displayName": "‍김태호[학생](공과대학 산업경영공학과)",
      "photoUrl": "",
      "userId": "00768331815007791841"
     },
     "user_tz": -540
    },
    "id": "K3Z0N9DlrY_P",
    "outputId": "55e52aee-45df-4ba2-f6a5-3c7dcbb12d44"
   },
   "outputs": [],
   "source": [
    "# Result visualization\n",
    "fig = plt.figure(figsize=(18, 16), dpi= 80)\n",
    "ax = plt.subplot(\"131\")\n",
    "ax.imshow(im_gt)\n",
    "ax.set_title(\"GT\")\n",
    "\n",
    "ax = plt.subplot(\"132\")\n",
    "ax.imshow(im_b)\n",
    "ax.set_title(\"Input(bicubic)\")\n",
    "\n",
    "ax = plt.subplot(\"133\")\n",
    "ax.imshow(im_h)\n",
    "ax.set_title(\"Output(vdsr)\")\n",
    "plt.show()"
   ]
  }
 ],
 "metadata": {
  "accelerator": "GPU",
  "colab": {
   "name": "VDSR-Demo.ipynb",
   "provenance": [],
   "toc_visible": true,
   "version": "0.3.2"
  },
  "kernelspec": {
   "display_name": "Python 3",
   "language": "python",
   "name": "python3"
  },
  "language_info": {
   "codemirror_mode": {
    "name": "ipython",
    "version": 3
   },
   "file_extension": ".py",
   "mimetype": "text/x-python",
   "name": "python",
   "nbconvert_exporter": "python",
   "pygments_lexer": "ipython3",
   "version": "3.7.3"
  }
 },
 "nbformat": 4,
 "nbformat_minor": 1
}
